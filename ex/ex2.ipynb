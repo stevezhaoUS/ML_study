{
 "cells": [
  {
   "cell_type": "markdown",
   "metadata": {},
   "source": [
    "> ** Feature Normalize ** -  standardization"
   ]
  },
  {
   "cell_type": "markdown",
   "metadata": {},
   "source": [
    "\\begin{equation}\n",
    "X'_j = \\frac{x_j - \\mu_j}{\\sigma_j}\n",
    "\\end{equation}"
   ]
  },
  {
   "cell_type": "code",
   "execution_count": 203,
   "metadata": {},
   "outputs": [],
   "source": [
    "import numpy as np\n",
    "import pandas as pd\n",
    "import matplotlib.pyplot as plt\n",
    "\n",
    "#pd.set_option('display.precision', 2)\n",
    "#pd.set_option('chop_threshold', 0.005)"
   ]
  },
  {
   "cell_type": "code",
   "execution_count": 204,
   "metadata": {},
   "outputs": [],
   "source": [
    "df = pd.read_csv('../data/iris.data', header=None)"
   ]
  },
  {
   "cell_type": "code",
   "execution_count": 205,
   "metadata": {},
   "outputs": [],
   "source": [
    "X = df.iloc[:10, :4].values"
   ]
  },
  {
   "cell_type": "code",
   "execution_count": 206,
   "metadata": {},
   "outputs": [
    {
     "data": {
      "text/plain": [
       "array([[5.1, 3.5, 1.4, 0.2],\n",
       "       [4.9, 3. , 1.4, 0.2],\n",
       "       [4.7, 3.2, 1.3, 0.2],\n",
       "       [4.6, 3.1, 1.5, 0.2],\n",
       "       [5. , 3.6, 1.4, 0.2],\n",
       "       [5.4, 3.9, 1.7, 0.4],\n",
       "       [4.6, 3.4, 1.4, 0.3],\n",
       "       [5. , 3.4, 1.5, 0.2],\n",
       "       [4.4, 2.9, 1.4, 0.2],\n",
       "       [4.9, 3.1, 1.5, 0.1]])"
      ]
     },
     "execution_count": 206,
     "metadata": {},
     "output_type": "execute_result"
    }
   ],
   "source": [
    "X"
   ]
  },
  {
   "cell_type": "code",
   "execution_count": 207,
   "metadata": {},
   "outputs": [
    {
     "data": {
      "text/plain": [
       "array([-1, -1, -1, -1, -1, -1, -1, -1, -1, -1])"
      ]
     },
     "execution_count": 207,
     "metadata": {},
     "output_type": "execute_result"
    }
   ],
   "source": [
    "y = df.iloc[:10, 4]\n",
    "y = np.where(y.values == 'Iris-setosa', -1, 1)\n",
    "y"
   ]
  },
  {
   "cell_type": "code",
   "execution_count": 208,
   "metadata": {},
   "outputs": [
    {
     "data": {
      "text/plain": [
       "array([4.86, 3.31, 1.45, 0.22])"
      ]
     },
     "execution_count": 208,
     "metadata": {},
     "output_type": "execute_result"
    }
   ],
   "source": [
    "X.mean(axis=0)"
   ]
  },
  {
   "cell_type": "code",
   "execution_count": 209,
   "metadata": {},
   "outputs": [
    {
     "data": {
      "text/plain": [
       "array([0.2764055 , 0.29137605, 0.10246951, 0.07483315])"
      ]
     },
     "execution_count": 209,
     "metadata": {},
     "output_type": "execute_result"
    }
   ],
   "source": [
    "X.std(axis=0)"
   ]
  },
  {
   "cell_type": "code",
   "execution_count": 210,
   "metadata": {},
   "outputs": [
    {
     "data": {
      "text/plain": [
       "(array([[5.1, 3.5, 1.4, 0.2],\n",
       "        [4.9, 3. , 1.4, 0.2],\n",
       "        [4.7, 3.2, 1.3, 0.2],\n",
       "        [4.6, 3.1, 1.5, 0.2],\n",
       "        [5. , 3.6, 1.4, 0.2],\n",
       "        [5.4, 3.9, 1.7, 0.4],\n",
       "        [4.6, 3.4, 1.4, 0.3],\n",
       "        [5. , 3.4, 1.5, 0.2],\n",
       "        [4.4, 2.9, 1.4, 0.2],\n",
       "        [4.9, 3.1, 1.5, 0.1]]),\n",
       " array([[ 1.48174374,  0.58371723, -0.59494256, -1.26846245],\n",
       "        [ 1.36949043,  0.30308395, -0.59494256, -1.26846245],\n",
       "        [ 1.25723711,  0.41533726, -0.65106922, -1.26846245],\n",
       "        [ 1.20111046,  0.3592106 , -0.53881591, -1.26846245],\n",
       "        [ 1.42561708,  0.63984389, -0.59494256, -1.26846245],\n",
       "        [ 1.65012371,  0.80822386, -0.42656259, -1.15620913],\n",
       "        [ 1.20111046,  0.52759057, -0.59494256, -1.21233579],\n",
       "        [ 1.42561708,  0.52759057, -0.53881591, -1.26846245],\n",
       "        [ 1.08885714,  0.24695729, -0.59494256, -1.26846245],\n",
       "        [ 1.36949043,  0.3592106 , -0.53881591, -1.3245891 ]]))"
      ]
     },
     "execution_count": 210,
     "metadata": {},
     "output_type": "execute_result"
    }
   ],
   "source": [
    "X_std = np.copy(X)\n",
    "X_std = (X - X.mean()) / X.std()\n",
    "r = np.random.permutation(len(y))\n",
    "X, X_std"
   ]
  },
  {
   "cell_type": "code",
   "execution_count": 211,
   "metadata": {},
   "outputs": [],
   "source": [
    "w = np.zeros(5)\n",
    "eta = 0.01\n",
    "n_iter = 15\n",
    "costs = []"
   ]
  },
  {
   "cell_type": "markdown",
   "metadata": {},
   "source": [
    "### Repeat >>>>"
   ]
  },
  {
   "cell_type": "code",
   "execution_count": 212,
   "metadata": {},
   "outputs": [
    {
     "data": {
      "text/plain": [
       "[5.0,\n",
       " 1.2809154613705256,\n",
       " 0.334500065382874,\n",
       " 0.09362361367879285,\n",
       " 0.03228029158038457,\n",
       " 0.016621674048006865,\n",
       " 0.012588438012546766,\n",
       " 0.011513781727635328,\n",
       " 0.011192331879000175,\n",
       " 0.011062902322533569,\n",
       " 0.010982689873625436,\n",
       " 0.010915353877658239,\n",
       " 0.010851644354666727,\n",
       " 0.010789204888600258,\n",
       " 0.010727433232641258]"
      ]
     },
     "execution_count": 212,
     "metadata": {},
     "output_type": "execute_result"
    }
   ],
   "source": [
    "for _ in (range(0, n_iter)):\n",
    "    output = np.dot(X_std, w[1:]) + w[0]\n",
    "    errors = (y - output)\n",
    "    w[1:] += eta * X_std.T.dot(errors)\n",
    "    w[0] += eta * errors.sum()\n",
    "    cost = 0.5 * (errors ** 2).sum()\n",
    "    costs.append(cost)\n",
    "\n",
    "costs"
   ]
  },
  {
   "cell_type": "markdown",
   "metadata": {},
   "source": [
    "## Large scale machine learning and stochastic gradient descent"
   ]
  },
  {
   "cell_type": "code",
   "execution_count": 213,
   "metadata": {},
   "outputs": [],
   "source": [
    "# Re-initialize\n",
    "cost = []\n",
    "w = np.zeros(5)"
   ]
  },
  {
   "cell_type": "code",
   "execution_count": 217,
   "metadata": {},
   "outputs": [],
   "source": [
    "r = np.random.permutation(len(y))\n",
    "X_std = X_std[r]"
   ]
  },
  {
   "cell_type": "code",
   "execution_count": 238,
   "metadata": {},
   "outputs": [
    {
     "data": {
      "text/plain": [
       "0.10970623337506308"
      ]
     },
     "execution_count": 238,
     "metadata": {},
     "output_type": "execute_result"
    }
   ],
   "source": [
    "feedIter = zip(X_std, y)\n",
    "xi, target = feedIter.__next__()\n",
    "output = np.dot(xi, w[1:]) + w[0]\n",
    "error = (target - output)\n",
    "w[1:] += eta * xi.dot(error)\n",
    "w[0] += eta * error\n",
    "cost = 0.5 * error**2\n",
    "cost"
   ]
  },
  {
   "cell_type": "code",
   "execution_count": null,
   "metadata": {},
   "outputs": [],
   "source": []
  }
 ],
 "metadata": {
  "kernelspec": {
   "display_name": "Python 3",
   "language": "python",
   "name": "python3"
  },
  "language_info": {
   "codemirror_mode": {
    "name": "ipython",
    "version": 3
   },
   "file_extension": ".py",
   "mimetype": "text/x-python",
   "name": "python",
   "nbconvert_exporter": "python",
   "pygments_lexer": "ipython3",
   "version": "3.6.5"
  }
 },
 "nbformat": 4,
 "nbformat_minor": 2
}
